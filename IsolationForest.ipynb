{
 "cells": [
  {
   "cell_type": "markdown",
   "id": "a4512873-0ad2-4164-afc0-410ecdaa2af1",
   "metadata": {},
   "source": [
    "# Isolation Forest"
   ]
  },
  {
   "cell_type": "markdown",
   "id": "be4120b7-8d54-4e88-b56b-7552956bc2d8",
   "metadata": {},
   "source": [
    "![basic isolation](img\\basic-isolation-example.png)"
   ]
  },
  {
   "cell_type": "markdown",
   "id": "cd36fefc-33d5-49a7-85d0-53689577e96b",
   "metadata": {},
   "source": [
    "FICOU MUITO GRANDE, DEPOIS EU EDITO"
   ]
  },
  {
   "cell_type": "markdown",
   "id": "30c9622e-c78a-4a6c-8052-2568d7652655",
   "metadata": {},
   "source": [
    "## 1. Introdução"
   ]
  },
  {
   "cell_type": "markdown",
   "id": "fbcabe0d-7048-4804-bfb1-d77a7d95878b",
   "metadata": {},
   "source": [
    "Isolation Forest é um algoritmo eficiente de deteção de dados extremos, especialmente em datasets com alta dimensionalidade.\n",
    "O algoritmo constroi uma random forest em cada árvore de decisão cresce aleatoriamente. Em cada nó ele seleciona uma feature aleatoriamente, depois seleciona um threshold aleatório para dividir o dataset em dois. O algoritmo divide o dataset gradualmente até que todas as instâncias estejam isoladas das outras instâncias. Outliers normalmente estão longe de outras instâncias, logo esses datapoints tendem a ser isolados em menos etapas que datapoints \"normais\". "
   ]
  },
  {
   "cell_type": "markdown",
   "id": "fa5fd8f2-4177-45e1-b9e4-26db31ed52e0",
   "metadata": {},
   "source": [
    "## 2. Dataset"
   ]
  },
  {
   "cell_type": "markdown",
   "id": "0fd5de1a-824d-4852-8091-c56c5715e192",
   "metadata": {},
   "source": [
    "A GENTE PODE USAR UM DATASET QUALQUER OU CRIAR UM E GERAR ALGUNS OUTLIERS MATEMATICAMENTE NELES. VOU DEIXAR A SEGUNDA OPÇÃO AQUI EMBAIXO DEPOIS VOCÊS ESCOLHEM"
   ]
  },
  {
   "cell_type": "code",
   "execution_count": null,
   "id": "f9ca7ac1-22d5-4d24-ac5c-c80ddbc0cd0c",
   "metadata": {},
   "outputs": [],
   "source": [
    "import numpy as np\n",
    "\n",
    "np.random.rand("
   ]
  }
 ],
 "metadata": {
  "kernelspec": {
   "display_name": "Python 3 (ipykernel)",
   "language": "python",
   "name": "python3"
  },
  "language_info": {
   "codemirror_mode": {
    "name": "ipython",
    "version": 3
   },
   "file_extension": ".py",
   "mimetype": "text/x-python",
   "name": "python",
   "nbconvert_exporter": "python",
   "pygments_lexer": "ipython3",
   "version": "3.11.6"
  }
 },
 "nbformat": 4,
 "nbformat_minor": 5
}
